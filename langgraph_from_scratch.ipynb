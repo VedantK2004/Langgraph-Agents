{
 "cells": [
  {
   "cell_type": "code",
   "execution_count": 62,
   "id": "6aa1aa3c",
   "metadata": {},
   "outputs": [],
   "source": [
    "from langchain_community.utilities import GoogleSerperAPIWrapper\n",
    "from langchain.agents import Tool\n",
    "from langchain.prompts import PromptTemplate\n",
    "from langchain.agents import AgentExecutor, create_react_agent\n",
    "from langchain_google_genai import ChatGoogleGenerativeAI, GoogleGenerativeAIEmbeddings\n",
    "from dotenv import load_dotenv"
   ]
  },
  {
   "cell_type": "code",
   "execution_count": 63,
   "id": "0a20cadc",
   "metadata": {},
   "outputs": [
    {
     "data": {
      "text/plain": [
       "True"
      ]
     },
     "execution_count": 63,
     "metadata": {},
     "output_type": "execute_result"
    }
   ],
   "source": [
    "load_dotenv()"
   ]
  },
  {
   "cell_type": "code",
   "execution_count": 64,
   "id": "94e15159",
   "metadata": {},
   "outputs": [],
   "source": [
    "llm = ChatGoogleGenerativeAI(model=\"gemma-3-4b-it\")\n",
    "embeddings = GoogleGenerativeAIEmbeddings(model=\"models/embedding-001\")"
   ]
  },
  {
   "cell_type": "markdown",
   "id": "36460cc6",
   "metadata": {},
   "source": [
    "### Simple Workflow with Graph"
   ]
  },
  {
   "cell_type": "code",
   "execution_count": 65,
   "id": "5f052d40",
   "metadata": {},
   "outputs": [],
   "source": [
    "def function3(input):\n",
    "    return input"
   ]
  },
  {
   "cell_type": "code",
   "execution_count": 66,
   "id": "805eb3a6",
   "metadata": {},
   "outputs": [],
   "source": [
    "def function1(input1):\n",
    "    return input1 + \" from first function\"\n",
    "\n",
    "def function2(input2):\n",
    "    func3_output = function3(\", this is the function 3 in between\")\n",
    "    return input2 + func3_output +\" and from Audii second function\"\n"
   ]
  },
  {
   "cell_type": "code",
   "execution_count": 67,
   "id": "da297d1a",
   "metadata": {},
   "outputs": [],
   "source": [
    "from langgraph.graph import Graph"
   ]
  },
  {
   "cell_type": "code",
   "execution_count": 68,
   "id": "1b5e1206",
   "metadata": {},
   "outputs": [],
   "source": [
    "workflow1 = Graph()"
   ]
  },
  {
   "cell_type": "code",
   "execution_count": 69,
   "id": "99c0f47e",
   "metadata": {},
   "outputs": [
    {
     "data": {
      "text/plain": [
       "<langgraph.graph.graph.Graph at 0x7104b0342440>"
      ]
     },
     "execution_count": 69,
     "metadata": {},
     "output_type": "execute_result"
    }
   ],
   "source": [
    "#adding nodes to the workflow\n",
    "\n",
    "workflow1.add_node(\"function1\", function1)\n",
    "workflow1.add_node(\"function2\", function2)"
   ]
  },
  {
   "cell_type": "code",
   "execution_count": 70,
   "id": "2a227bad",
   "metadata": {},
   "outputs": [
    {
     "data": {
      "text/plain": [
       "<langgraph.graph.graph.Graph at 0x7104b0342440>"
      ]
     },
     "execution_count": 70,
     "metadata": {},
     "output_type": "execute_result"
    }
   ],
   "source": [
    "# add starting point and end point\n",
    "\n",
    "workflow1.set_entry_point(\"function1\")\n",
    "# adding edges to the workflow\n",
    "workflow1.add_edge(\"function1\", \"function2\")\n",
    "workflow1.set_finish_point(\"function2\")"
   ]
  },
  {
   "cell_type": "code",
   "execution_count": 71,
   "id": "2ca8de3f",
   "metadata": {},
   "outputs": [
    {
     "data": {
      "image/png": "[encoded data removed]",
      "text/plain": [
       "<langgraph.graph.graph.CompiledGraph object at 0x7104b0342590>"
      ]
     },
     "execution_count": 71,
     "metadata": {},
     "output_type": "execute_result"
    }
   ],
   "source": [
    "app1 = workflow1.compile()\n",
    "app1"
   ]
  },
  {
   "cell_type": "code",
   "execution_count": 72,
   "id": "9f231914",
   "metadata": {},
   "outputs": [
    {
     "data": {
      "text/plain": [
       "'Hii this vedant from first function, this is the function 3 in between and from Audii second function'"
      ]
     },
     "execution_count": 72,
     "metadata": {},
     "output_type": "execute_result"
    }
   ],
   "source": [
    "app1.invoke(\"Hii this vedant\")"
   ]
  },
  {
   "cell_type": "markdown",
   "id": "2f335e08",
   "metadata": {},
   "source": [
    "### Workflow with an llm"
   ]
  },
  {
   "cell_type": "code",
   "execution_count": 73,
   "id": "a1c718e5",
   "metadata": {},
   "outputs": [
    {
     "data": {
      "text/plain": [
       "'Hi there! How’s your day going so far? Is there anything you’d like to chat about, or were you just saying hello? 😊'"
      ]
     },
     "execution_count": 73,
     "metadata": {},
     "output_type": "execute_result"
    }
   ],
   "source": [
    "llm.invoke(\"hi\").content"
   ]
  },
  {
   "cell_type": "code",
   "execution_count": 74,
   "id": "118e9658",
   "metadata": {},
   "outputs": [],
   "source": [
    "def function1(input):\n",
    "    response = llm.invoke(input)\n",
    "    return response.content"
   ]
  },
  {
   "cell_type": "code",
   "execution_count": 75,
   "id": "f5dcfe98",
   "metadata": {},
   "outputs": [],
   "source": [
    "def function2(input):\n",
    "    upper_case = input.upper()\n",
    "    return upper_case"
   ]
  },
  {
   "cell_type": "code",
   "execution_count": 76,
   "id": "e6c9718d",
   "metadata": {},
   "outputs": [],
   "source": [
    "workflow2 = Graph()"
   ]
  },
  {
   "cell_type": "code",
   "execution_count": 77,
   "id": "696119e9",
   "metadata": {},
   "outputs": [
    {
     "data": {
      "text/plain": [
       "<langgraph.graph.graph.Graph at 0x7104b042f700>"
      ]
     },
     "execution_count": 77,
     "metadata": {},
     "output_type": "execute_result"
    }
   ],
   "source": [
    "workflow2.add_node(\"llm\", function1)\n",
    "workflow2.add_node(\"upper_string\", function2)"
   ]
  },
  {
   "cell_type": "code",
   "execution_count": 78,
   "id": "2ee9e85a",
   "metadata": {},
   "outputs": [
    {
     "data": {
      "text/plain": [
       "<langgraph.graph.graph.Graph at 0x7104b042f700>"
      ]
     },
     "execution_count": 78,
     "metadata": {},
     "output_type": "execute_result"
    }
   ],
   "source": [
    "workflow2.set_entry_point(\"llm\")\n",
    "workflow2.add_edge(\"llm\", \"upper_string\")\n",
    "workflow2.set_finish_point(\"upper_string\")"
   ]
  },
  {
   "cell_type": "code",
   "execution_count": 79,
   "id": "a0c3105a",
   "metadata": {},
   "outputs": [
    {
     "data": {
      "image/png": "[encoded data removed]",
      "text/plain": [
       "<langgraph.graph.graph.CompiledGraph object at 0x7104b0340f40>"
      ]
     },
     "execution_count": 79,
     "metadata": {},
     "output_type": "execute_result"
    }
   ],
   "source": [
    "app2 = workflow2.compile()\n",
    "app2"
   ]
  },
  {
   "cell_type": "code",
   "execution_count": 80,
   "id": "08f60c92",
   "metadata": {},
   "outputs": [
    {
     "name": "stdout",
     "output_type": "stream",
     "text": [
      "THE CURRENT PRIME MINISTER OF INDIA IS **NARENDRA MODI**. \n",
      "\n",
      "DO YOU WANT TO KNOW ANYTHING MORE ABOUT HIM OR THE INDIAN GOVERNMENT?\n"
     ]
    }
   ],
   "source": [
    "result = app2.invoke(\"What is the name of Indian Prime Minister?\")\n",
    "print(result)"
   ]
  },
  {
   "cell_type": "markdown",
   "id": "07e648bd",
   "metadata": {},
   "source": [
    "### Workflow with RAG"
   ]
  },
  {
   "cell_type": "code",
   "execution_count": 81,
   "id": "fc835a25",
   "metadata": {},
   "outputs": [],
   "source": [
    "from langchain_core.output_parsers import StrOutputParser\n",
    "from langchain_core.prompts import ChatPromptTemplate\n",
    "from langchain_core.runnables import RunnablePassthrough\n",
    "from langchain_community.document_loaders import TextLoader, DirectoryLoader\n",
    "from langchain_community.vectorstores import Chroma\n",
    "from langchain.text_splitter import RecursiveCharacterTextSplitter\n",
    "from langgraph.graph import Graph"
   ]
  },
  {
   "cell_type": "code",
   "execution_count": 82,
   "id": "701d165b",
   "metadata": {},
   "outputs": [
    {
     "name": "stdout",
     "output_type": "stream",
     "text": [
      "{'source': 'data/llama.txt'}\n",
      "Alongside the release of Llama 3, Meta added virtual assistant features to Facebook and WhatsApp in\n",
      "page_content='Alongside the release of Llama 3, Meta added virtual assistant features to Facebook and WhatsApp in' metadata={'source': 'data/llama.txt'}\n",
      "page_content='Alongside the release of Llama 3, Meta added virtual assistant features to Facebook and WhatsApp in' metadata={'source': 'data/llama.txt'}\n",
      "page_content='by Meta AI starting in February 2023.[2][3] The latest version is Llama 3 released in April' metadata={'source': 'data/llama.txt'}\n"
     ]
    }
   ],
   "source": [
    "loader=DirectoryLoader(\"data\",glob=\"./*.txt\",loader_cls=TextLoader)\n",
    "docs=loader.load()\n",
    "text_splitter=RecursiveCharacterTextSplitter(\n",
    "    chunk_size=100,\n",
    "    chunk_overlap=50\n",
    ")\n",
    "new_docs = text_splitter.split_documents(documents=docs)\n",
    "doc_strings = [doc.page_content for doc in new_docs]\n",
    "\n",
    "db = Chroma.from_documents(new_docs, embeddings)\n",
    "\n",
    "retriever = db.as_retriever(search_kwargs={\"k\": 3})\n",
    "\n",
    "query = \"what is meta llama3?\"\n",
    "docs = retriever.get_relevant_documents(query)\n",
    "print(docs[0].metadata)\n",
    "print(docs[0].page_content)\n",
    "\n",
    "for doc in docs:\n",
    "    print(doc)"
   ]
  },
  {
   "cell_type": "code",
   "execution_count": 83,
   "id": "eb185084",
   "metadata": {},
   "outputs": [],
   "source": [
    "def function1(AgentState):\n",
    "    message = AgentState['messages']\n",
    "    question = message[-1]\n",
    "\n",
    "    complete_prompt = \"Your task is to provide only the brief answer based on the user query.\\\n",
    "    Don't include too much reasoning. following is the user query: \" + question\n",
    "\n",
    "    response = llm.invoke(complete_prompt)\n",
    "\n",
    "    AgentState['messages'].append(response.content)\n",
    "\n",
    "    return AgentState    "
   ]
  },
  {
   "cell_type": "code",
   "execution_count": 84,
   "id": "9446250c",
   "metadata": {},
   "outputs": [],
   "source": [
    "def function2(AgentState):\n",
    "    messages = AgentState['messages']\n",
    "    question = messages[0]\n",
    "\n",
    "    template = \"\"\"Answer the question based only on the following context:\n",
    "    {context}\n",
    "\n",
    "    Question: {question}\n",
    "    \"\"\"\n",
    "\n",
    "    prompt = ChatPromptTemplate.from_template(template)\n",
    "\n",
    "    retrieval_chain = (\n",
    "        {'context': retriever, 'question': RunnablePassthrough()}\n",
    "        | prompt\n",
    "        | llm\n",
    "        | StrOutputParser()\n",
    "    )\n",
    "\n",
    "    result = retrieval_chain.invoke(question)\n",
    "    return result\n"
   ]
  },
  {
   "cell_type": "code",
   "execution_count": 85,
   "id": "ba547ab8",
   "metadata": {},
   "outputs": [],
   "source": [
    "workflow4 = Graph()\n",
    "\n",
    "workflow4.add_node('llm', function1)\n",
    "workflow4.add_node('Rag_tool', function2)\n",
    "workflow4.set_entry_point('llm')\n",
    "workflow4.add_edge('llm', 'Rag_tool')\n",
    "workflow4.set_finish_point('Rag_tool')\n",
    "\n",
    "app4 = workflow4.compile()"
   ]
  },
  {
   "cell_type": "code",
   "execution_count": 86,
   "id": "b60b4cd3",
   "metadata": {},
   "outputs": [
    {
     "data": {
      "image/png": "[encoded data removed]",
      "text/plain": [
       "<langgraph.graph.graph.CompiledGraph object at 0x7104b0343bb0>"
      ]
     },
     "execution_count": 86,
     "metadata": {},
     "output_type": "execute_result"
    }
   ],
   "source": [
    "app4"
   ]
  },
  {
   "cell_type": "code",
   "execution_count": 87,
   "id": "528cf54d",
   "metadata": {},
   "outputs": [],
   "source": [
    "inputs = {\"messages\": ['Tell me about the Llama3 model.']}"
   ]
  },
  {
   "cell_type": "code",
   "execution_count": 88,
   "id": "462ed19c",
   "metadata": {},
   "outputs": [
    {
     "name": "stdout",
     "output_type": "stream",
     "text": [
      "The 8B parameter version of Llama 3 is being described as “surprisingly capable” given its size. Llama models have also been compared favorably against other large language models.\n"
     ]
    }
   ],
   "source": [
    "res = app4.invoke(inputs)\n",
    "print(res)"
   ]
  },
  {
   "cell_type": "markdown",
   "id": "59ba209a",
   "metadata": {},
   "source": [
    "### LLM or RAG call"
   ]
  },
  {
   "cell_type": "code",
   "execution_count": 89,
   "id": "1f28987e",
   "metadata": {},
   "outputs": [],
   "source": [
    "loader2=DirectoryLoader(\"data2\",glob=\"./*.txt\",loader_cls=TextLoader)\n",
    "docs2=loader2.load()\n",
    "\n",
    "text_splitter=RecursiveCharacterTextSplitter(\n",
    "    chunk_size=100,\n",
    "    chunk_overlap=50\n",
    ")\n",
    " \n",
    "new_docs2 = text_splitter.split_documents(documents=docs2)\n",
    "doc_strings2 = [doc.page_content for doc in new_docs2]"
   ]
  },
  {
   "cell_type": "code",
   "execution_count": 92,
   "id": "cb666b59",
   "metadata": {},
   "outputs": [
    {
     "name": "stdout",
     "output_type": "stream",
     "text": [
      "{'source': 'data2/indian_economy.txt'}\n",
      "India’s strong export sectors—including textiles, IT services, and automotive manufacturing—had\n",
      "page_content='India’s strong export sectors—including textiles, IT services, and automotive manufacturing—had' metadata={'source': 'data2/indian_economy.txt'}\n",
      "page_content='India’s strong export sectors—including textiles, IT services, and automotive manufacturing—had' metadata={'source': 'data2/indian_economy.txt'}\n",
      "page_content='India’s strong export sectors—including textiles, IT services, and automotive manufacturing—had' metadata={'source': 'data2/indian_economy.txt'}\n"
     ]
    }
   ],
   "source": [
    "db2 = Chroma.from_documents(new_docs2, embeddings)\n",
    "\n",
    "retriever2 = db2.as_retriever(search_kwargs={\"k\": 3})\n",
    "\n",
    "query = \"Tell me about the India's Industrial Growth..\"\n",
    "docs = retriever2.get_relevant_documents(query)\n",
    "print(docs[0].metadata)\n",
    "print(docs[0].page_content)\n",
    "\n",
    "for doc in docs:\n",
    "    print(doc)"
   ]
  },
  {
   "cell_type": "code",
   "execution_count": 93,
   "id": "be766a03",
   "metadata": {},
   "outputs": [],
   "source": [
    "from typing import TypedDict, Annotated, Sequence\n",
    "import operator\n",
    "from langchain_core.messages import BaseMessage\n",
    "from langchain.prompts import PromptTemplate"
   ]
  },
  {
   "cell_type": "code",
   "execution_count": 94,
   "id": "291e22ae",
   "metadata": {},
   "outputs": [],
   "source": [
    "class AgentState(TypedDict):\n",
    "\n",
    "    messages: Annotated[Sequence[BaseMessage],operator.add]"
   ]
  },
  {
   "cell_type": "code",
   "execution_count": 95,
   "id": "d8ed0599",
   "metadata": {},
   "outputs": [],
   "source": [
    "from pydantic import BaseModel, Field\n",
    "\n",
    "class TopicSelectionParser(BaseModel):\n",
    "\n",
    "    Topic: str = Field(description=\"Selected Topic\")\n",
    "    Reasoning: str = Field(description=\"Reason behind the selected topic.\")\n"
   ]
  },
  {
   "cell_type": "code",
   "execution_count": 96,
   "id": "b4ee21e6",
   "metadata": {},
   "outputs": [],
   "source": [
    "from langchain.output_parsers import PydanticOutputParser\n",
    "parser = PydanticOutputParser(pydantic_object=TopicSelectionParser)"
   ]
  },
  {
   "cell_type": "code",
   "execution_count": 97,
   "id": "798f78d3",
   "metadata": {},
   "outputs": [
    {
     "name": "stdout",
     "output_type": "stream",
     "text": [
      "The output should be formatted as a JSON instance that conforms to the JSON schema below.\n",
      "\n",
      "As an example, for the schema {\"properties\": {\"foo\": {\"title\": \"Foo\", \"description\": \"a list of strings\", \"type\": \"array\", \"items\": {\"type\": \"string\"}}}, \"required\": [\"foo\"]}\n",
      "the object {\"foo\": [\"bar\", \"baz\"]} is a well-formatted instance of the schema. The object {\"properties\": {\"foo\": [\"bar\", \"baz\"]}} is not well-formatted.\n",
      "\n",
      "Here is the output schema:\n",
      "```\n",
      "{\"properties\": {\"Topic\": {\"description\": \"Selected Topic\", \"title\": \"Topic\", \"type\": \"string\"}, \"Reasoning\": {\"description\": \"Reason behind the selected topic.\", \"title\": \"Reasoning\", \"type\": \"string\"}}, \"required\": [\"Topic\", \"Reasoning\"]}\n",
      "```\n"
     ]
    }
   ],
   "source": [
    "print(parser.get_format_instructions())"
   ]
  },
  {
   "cell_type": "code",
   "execution_count": 98,
   "id": "b333bb41",
   "metadata": {},
   "outputs": [],
   "source": [
    "def function_1(State):\n",
    "\n",
    "    message = State['messages']\n",
    "    question = message[-1]\n",
    "\n",
    "    template = \"\"\"Your task is to classify the given user query in one of the following category: [India, Not Related].\n",
    "    Only respond with the category name and nothing else.\n",
    "    \n",
    "    User Query: {question}\n",
    "    {format_instructions}\n",
    "    \"\"\"\n",
    "\n",
    "    prompt = PromptTemplate(template=template, \n",
    "                            input_variables=[question],\n",
    "                            partial_variables={\n",
    "                                \"format_instructions\": parser.get_format_instructions()\n",
    "                            })\n",
    "    \n",
    "    chain = prompt | llm | parser\n",
    "    response = chain.invoke({'question': question, 'format_instructions': parser.get_format_instructions()})\n",
    "\n",
    "    print(response)\n",
    "\n",
    "    return {'messages': [response.Topic]}"
   ]
  },
  {
   "cell_type": "code",
   "execution_count": 99,
   "id": "cfc40f2d",
   "metadata": {},
   "outputs": [],
   "source": [
    "state = {\"messages\": [\"Tell me about India's Industrial Growth.\"]}"
   ]
  },
  {
   "cell_type": "code",
   "execution_count": 100,
   "id": "a9081d3a",
   "metadata": {},
   "outputs": [
    {
     "name": "stdout",
     "output_type": "stream",
     "text": [
      "Topic='India' Reasoning='The query specifically asks about \"India\\'s Industrial Growth\".'\n"
     ]
    },
    {
     "data": {
      "text/plain": [
       "{'messages': ['India']}"
      ]
     },
     "execution_count": 100,
     "metadata": {},
     "output_type": "execute_result"
    }
   ],
   "source": [
    "function_1(state)"
   ]
  },
  {
   "cell_type": "code",
   "execution_count": 101,
   "id": "df92fd3b",
   "metadata": {},
   "outputs": [],
   "source": [
    "def router(state):\n",
    "    print(\"-> Router ->\")\n",
    "\n",
    "    messages = state['messages']\n",
    "    last_message = messages[-1]\n",
    "\n",
    "    print(last_message)\n",
    "    if \"India\" in last_message:\n",
    "        return \"RAG Call\"\n",
    "    else:\n",
    "        return \"LLM Call\"\n",
    "    "
   ]
  },
  {
   "cell_type": "code",
   "execution_count": 102,
   "id": "20488445",
   "metadata": {},
   "outputs": [],
   "source": [
    "# RAG Function:\n",
    "\n",
    "def function_2(State):\n",
    "\n",
    "    print(\"Calling RAG...\")\n",
    "    messages = State['messages']\n",
    "    question = messages[0]\n",
    "\n",
    "    print(question)\n",
    "\n",
    "    template = \"\"\"Answer the question based only on the following context:\n",
    "    {context}\n",
    "\n",
    "    Question: {question}\n",
    "    \"\"\"\n",
    "\n",
    "    prompt = ChatPromptTemplate.from_template(template)\n",
    "\n",
    "    retrieval_chain = (\n",
    "        {'context': retriever, 'question': RunnablePassthrough()}\n",
    "        | prompt\n",
    "        | llm\n",
    "        | StrOutputParser()\n",
    "    )\n",
    "\n",
    "    result = retrieval_chain.invoke(question)\n",
    "    return {\"messages\": [result]}\n"
   ]
  },
  {
   "cell_type": "code",
   "execution_count": 103,
   "id": "95770713",
   "metadata": {},
   "outputs": [],
   "source": [
    "# LLM Call\n",
    "\n",
    "def function_3(state):\n",
    "\n",
    "    print(\"Calling LLM...\")\n",
    "\n",
    "    messages = state['messages']\n",
    "    question = messages[-1]\n",
    "\n",
    "    complete_query = \"Answer the following question with your own knowledge. Following is the user question: \" + question\n",
    "    response = llm.invoke(complete_query)\n",
    "    \n",
    "    return {'messages': response.content}"
   ]
  },
  {
   "cell_type": "code",
   "execution_count": 108,
   "id": "0910bbc8",
   "metadata": {},
   "outputs": [],
   "source": [
    "from langgraph.graph import StateGraph, END\n",
    "\n",
    "workflow5 = Graph()\n",
    "\n",
    "workflow5.add_node('agent', function_1)\n",
    "workflow5.add_node('RAG', function_2)\n",
    "workflow5.add_node('LLM', function_3)\n",
    "\n",
    "workflow5.set_entry_point('agent')\n",
    "\n",
    "workflow5.add_conditional_edges(\n",
    "    'agent',\n",
    "    router,\n",
    "    {\n",
    "        \"RAG Call\": \"RAG\",\n",
    "        \"LLM Call\": \"LLM\"\n",
    "    }\n",
    ")\n",
    "\n",
    "workflow5.add_edge('RAG', END)\n",
    "workflow5.add_edge('LLM', END)\n",
    "\n",
    "app5 = workflow5.compile()"
   ]
  },
  {
   "cell_type": "code",
   "execution_count": 114,
   "id": "2e585196",
   "metadata": {},
   "outputs": [
    {
     "name": "stdout",
     "output_type": "stream",
     "text": [
      "Topic='Not Related' Reasoning='The query asks about the population of China, which is not related to India.'\n",
      "-> Router ->\n",
      "Not Related\n",
      "Calling LLM...\n",
      "Okay! Since you've indicated \"Not Related,\" I understand you're not looking for a specific answer to a question. \n",
      "\n",
      "Essentially, you're letting me know that my previous response (or any potential response) isn't relevant to what you need. \n",
      "\n",
      "Is there anything *you* would like me to do instead? Perhaps you'd like me to:\n",
      "\n",
      "*   **Just acknowledge you:** \"Okay, understood. Let me know if you need anything else.\"\n",
      "*   **Start a new conversation:** \"What can I help you with?\"\n",
      "*   **Do something completely different** (like tell a joke, write a poem, or generate a random fact)?\n",
      "Okay! Since you've indicated \"Not Related,\" I understand you're not looking for a specific answer to a question. \n",
      "\n",
      "Essentially, you're letting me know that my previous response (or any potential response) isn't relevant to what you need. \n",
      "\n",
      "Is there anything *you* would like me to do instead? Perhaps you'd like me to:\n",
      "\n",
      "*   **Just acknowledge you:** \"Okay, understood. Let me know if you need anything else.\"\n",
      "*   **Start a new conversation:** \"What can I help you with?\"\n",
      "*   **Do something completely different** (like tell a joke, write a poem, or generate a random fact)?\n"
     ]
    }
   ],
   "source": [
    "# Test the workflow with a sample query\n",
    "inputs = {\"messages\": [\"Tell me about china total population.\"]} \n",
    "result = app5.invoke(inputs)\n",
    "print(result[\"messages\"])"
   ]
  },
  {
   "cell_type": "code",
   "execution_count": null,
   "metadata": {},
   "outputs": [],
   "source": []
  },
  {
   "cell_type": "code",
   "execution_count": null,
   "id": "5428ba70",
   "metadata": {},
   "outputs": [],
   "source": []
  },
  {
   "cell_type": "code",
   "execution_count": null,
   "id": "3fff6da6",
   "metadata": {},
   "outputs": [],
   "source": []
  },
  {
   "cell_type": "code",
   "execution_count": null,
   "id": "ef660393",
   "metadata": {},
   "outputs": [],
   "source": []
  },
  {
   "cell_type": "code",
   "execution_count": null,
   "metadata": {},
   "outputs": [],
   "source": []
  },
  {
   "cell_type": "code",
   "execution_count": null,
   "id": "142288ef",
   "metadata": {},
   "outputs": [],
   "source": []
  },
  {
   "cell_type": "code",
   "execution_count": null,
   "metadata": {},
   "outputs": [],
   "source": []
  },
  {
   "cell_type": "code",
   "execution_count": null,
   "metadata": {},
   "outputs": [],
   "source": []
  },
  {
   "cell_type": "code",
   "execution_count": null,
   "metadata": {},
   "outputs": [],
   "source": []
  },
  {
   "cell_type": "code",
   "execution_count": null,
   "id": "adc73a47",
   "metadata": {},
   "outputs": [],
   "source": []
  }
 ],
 "metadata": {
  "kernelspec": {
   "display_name": "myenv",
   "language": "python",
   "name": "python3"
  },
  "language_info": {
   "codemirror_mode": {
    "name": "ipython",
    "version": 3
   },
   "file_extension": ".py",
   "mimetype": "text/x-python",
   "name": "python",
   "nbconvert_exporter": "python",
   "pygments_lexer": "ipython3",
   "version": "3.10.12"
  }
 },
 "nbformat": 4,
 "nbformat_minor": 5
}
