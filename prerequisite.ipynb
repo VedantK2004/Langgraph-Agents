{
 "cells": [
  {
   "cell_type": "code",
   "execution_count": 10,
   "id": "5489bb9b",
   "metadata": {},
   "outputs": [],
   "source": [
    "from langchain_google_genai import ChatGoogleGenerativeAI\n",
    "from langchain_google_genai import GoogleGenerativeAIEmbeddings\n",
    "from langchain_core.chat_history import BaseChatMessageHistory\n",
    "from langchain_core.chat_history import InMemoryChatMessageHistory\n",
    "from langchain_core.runnables.history import RunnableWithMessageHistory\n",
    "from langchain_core.messages import AIMessage\n",
    "from dotenv import load_dotenv\n",
    "import os"
   ]
  },
  {
   "cell_type": "code",
   "execution_count": 3,
   "id": "d5e858f8",
   "metadata": {},
   "outputs": [
    {
     "data": {
      "text/plain": [
       "True"
      ]
     },
     "execution_count": 3,
     "metadata": {},
     "output_type": "execute_result"
    }
   ],
   "source": [
    "load_dotenv()"
   ]
  },
  {
   "cell_type": "code",
   "execution_count": null,
   "id": "db556a72",
   "metadata": {},
   "outputs": [],
   "source": [
    "llm = ChatGoogleGenerativeAI(model=\"gemma-3-12b-it\")\n",
    "embeddings = GoogleGenerativeAIEmbeddings(model=\"models/gemini-embeddings-001\")"
   ]
  },
  {
   "cell_type": "markdown",
   "id": "5795258c",
   "metadata": {},
   "source": [
    "### Simple AI Assistant"
   ]
  },
  {
   "cell_type": "code",
   "execution_count": null,
   "id": "0ce76e56",
   "metadata": {},
   "outputs": [],
   "source": [
    "while True:\n",
    "    query = input(\"Enter your query: \")\n",
    "    if query.lower() == \"exit\":\n",
    "        break\n",
    "    else:\n",
    "        result = llm.invoke(query)\n",
    "        print(result.content)"
   ]
  },
  {
   "cell_type": "markdown",
   "id": "7de800bf",
   "metadata": {},
   "source": [
    "#### With memory"
   ]
  },
  {
   "cell_type": "code",
   "execution_count": 11,
   "id": "a0b3a5a1",
   "metadata": {},
   "outputs": [],
   "source": [
    "store  = {}"
   ]
  },
  {
   "cell_type": "code",
   "execution_count": 12,
   "id": "ee9e94d0",
   "metadata": {},
   "outputs": [],
   "source": [
    "def get_session_history(session_id: str) -> BaseChatMessageHistory:\n",
    "    if session_id not in store:\n",
    "        store[session_id] = InMemoryChatMessageHistory()\n",
    "    return store[session_id]"
   ]
  },
  {
   "cell_type": "code",
   "execution_count": 13,
   "id": "3f79fb4f",
   "metadata": {},
   "outputs": [],
   "source": [
    "config = {\"configurable\": {\"session_id\": \"firstchat\"}}"
   ]
  },
  {
   "cell_type": "code",
   "execution_count": 14,
   "id": "e3c8a26e",
   "metadata": {},
   "outputs": [],
   "source": [
    "model_with_memory = RunnableWithMessageHistory(\n",
    "    llm, get_session_history,\n",
    ")"
   ]
  },
  {
   "cell_type": "code",
   "execution_count": null,
   "id": "5397b6d8",
   "metadata": {},
   "outputs": [
    {
     "data": {
      "text/plain": [
       "\"Hi Vedant! I'm doing well, thanks for asking! It's nice to meet you. 😊 \\n\\nHow are *you* doing today? What's on your mind?\""
      ]
     },
     "execution_count": 17,
     "metadata": {},
     "output_type": "execute_result"
    }
   ],
   "source": [
    "model_with_memory.invoke((\"hiii, I'm Vedant, how are you?\"), config).content"
   ]
  },
  {
   "cell_type": "code",
   "execution_count": 22,
   "id": "94af2ae6",
   "metadata": {},
   "outputs": [
    {
     "data": {
      "text/plain": [
       "\"Hi Vedant! I'm doing well, thanks for asking! It's good to hear from you again. 😊\\n\\nHow are *you* doing today?\""
      ]
     },
     "execution_count": 22,
     "metadata": {},
     "output_type": "execute_result"
    }
   ],
   "source": [
    "response = model_with_memory.invoke(\n",
    "    {\"input_user_message\": \"hiii, I'm Vedant, how are you?\"},\n",
    "    config={\"configurable\": {\"session_id\": \"firstchat\"}}\n",
    ")\n",
    "\n",
    "response.content"
   ]
  },
  {
   "cell_type": "code",
   "execution_count": null,
   "id": "37617a1f",
   "metadata": {},
   "outputs": [],
   "source": []
  }
 ],
 "metadata": {
  "kernelspec": {
   "display_name": "myenv",
   "language": "python",
   "name": "python3"
  },
  "language_info": {
   "codemirror_mode": {
    "name": "ipython",
    "version": 3
   },
   "file_extension": ".py",
   "mimetype": "text/x-python",
   "name": "python",
   "nbconvert_exporter": "python",
   "pygments_lexer": "ipython3",
   "version": "3.10.12"
  }
 },
 "nbformat": 4,
 "nbformat_minor": 5
}
